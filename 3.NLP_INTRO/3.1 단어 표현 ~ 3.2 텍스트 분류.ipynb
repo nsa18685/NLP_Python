{
 "cells": [
  {
   "cell_type": "markdown",
   "metadata": {},
   "source": [
    "# 3.1 단어 표현\n",
    "\n",
    ": 텍스트를 자연어 처리를 위한 모델에 적용할 수 있게 언어적인 특성을 만영해 단어를 수치화하는 방법을 찾는 것\n",
    "\n",
    "== 단어 임베딩 == 단어 벡터"
   ]
  },
  {
   "cell_type": "markdown",
   "metadata": {},
   "source": [
    "### 원-핫 인코딩\n",
    "\n",
    ": 각 단어의 인덱스를 정한 후 각 단어의 벡터를 그 단어에 해당하는 인덱스의 값을 1로 표현하는 방식이다.\n",
    "\n",
    "- 문제점1. 단어의 수가 많아지면 각 단어 벡터의 크기가 너무 커지기 때문에 공간을 많이 사용 & 비효율\n",
    "- 문제점2. 벡터값 자체에는 단어의 의미나 특성 같은 것들이 전혀 표현되지 않는다는 것"
   ]
  },
  {
   "cell_type": "markdown",
   "metadata": {},
   "source": [
    "## 분포가설을 기반으로 하는 방법s\n",
    "\n",
    "#### 분포가설이란, 같은 문맥의 단어, 즉 비슷한 위치에 나오는 단어는 비슷한 의미를 가진다라는 개념"
   ]
  },
  {
   "cell_type": "markdown",
   "metadata": {},
   "source": [
    "### 카운트 기반 방법\n",
    "\n",
    ": 어떤 글의 문맥 안에 단어가 동시에 등장하는 횟수를 세는 방법\n",
    "(동시 출현 행렬을 만들고 그 행렬을 변형하는 방법)\n",
    "\n",
    "- 특이값 분해(SVD)\n",
    "- 잠재의미분석(LSA)\n",
    "- Hyperspace Analogue to Language(HAL)\n",
    "- Hellinger PCA\n"
   ]
  },
  {
   "cell_type": "markdown",
   "metadata": {},
   "source": [
    "### 예측 방법\n",
    "\n",
    ": 신경망 구조 혹은 어떠한 모델을 사용해 특정 문맥에서 어떤 단어가 나올지를 예측하면서 단어를 벡터로 만드는 방식\n",
    "\n",
    "- Word2vec\n",
    " - 장점 1. 기존 카운트 기반 방법으로 만든 단어 벡터보다 단어간 유사도를 잘 측정한다.\n",
    " - 장점 2. 단어들의 복잡한 특징까지도 잘 잡아낸다.\n",
    " - 종류\n",
    "   - CBOW(Continuous Bag of Words) : 어떤 단어를 문맥 안의 주변 단어들을 통해 예측하는 방법\n",
    "   - Skip-Gram: 어떤 단어를 가지고 특정 문맥 안의 주변 단어들을 예측\n",
    "\n",
    "- NNLM(Neural Network Language Model)\n",
    "- RNNLM"
   ]
  },
  {
   "cell_type": "markdown",
   "metadata": {},
   "source": [
    "# 3.2 텍스트 분류\n",
    "\n",
    ": 자연어 처리 기술을 활용해 특정 텍스트를 사람들이 정한 몇 가지 범주(Class) 중 어느 범주에 속하는지 분류하는 문제"
   ]
  },
  {
   "cell_type": "markdown",
   "metadata": {},
   "source": [
    "ex ) 스팸 분류, 감정 분류, 뉴스 기사 분류, 지도학습을 통한 텍스트 분류, 비지도학습을 통한 텍스트 분류"
   ]
  }
 ],
 "metadata": {
  "kernelspec": {
   "display_name": "Python 3",
   "language": "python",
   "name": "python3"
  },
  "language_info": {
   "codemirror_mode": {
    "name": "ipython",
    "version": 3
   },
   "file_extension": ".py",
   "mimetype": "text/x-python",
   "name": "python",
   "nbconvert_exporter": "python",
   "pygments_lexer": "ipython3",
   "version": "3.7.2"
  }
 },
 "nbformat": 4,
 "nbformat_minor": 2
}
