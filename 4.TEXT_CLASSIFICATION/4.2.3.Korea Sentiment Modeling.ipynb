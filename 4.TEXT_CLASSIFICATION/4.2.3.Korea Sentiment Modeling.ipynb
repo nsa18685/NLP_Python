{
 "cells": [
  {
   "cell_type": "markdown",
   "metadata": {},
   "source": [
    "# 모델링"
   ]
  },
  {
   "cell_type": "code",
   "execution_count": 1,
   "metadata": {},
   "outputs": [],
   "source": [
    "import os\n",
    "from datetime import datetime\n",
    "import tensorflow as tf\n",
    "import numpy as np\n",
    "import json\n",
    "from sklearn.model_selection import train_test_split"
   ]
  },
  {
   "cell_type": "code",
   "execution_count": 2,
   "metadata": {},
   "outputs": [],
   "source": [
    "DATA_IN_PATH = './data_in/'\n",
    "DATA_OUT_PATH = './data_out/'\n",
    "INPUT_TRAIN_DATA = 'nsmc_train_input.npy'  # numpy file\n",
    "LABEL_TRAIN_DATA = 'nsmc_train_label.npy'\n",
    "DATA_CONFIGS = 'data_configs.json'\n",
    "\n",
    "input_data = np.load(open(DATA_IN_PATH + INPUT_TRAIN_DATA, 'rb'))\n",
    "label_data = np.load(open(DATA_IN_PATH + LABEL_TRAIN_DATA, 'rb'))\n",
    "prepro_configs = json.load(open(DATA_IN_PATH + DATA_CONFIGS, 'r'))"
   ]
  },
  {
   "cell_type": "markdown",
   "metadata": {},
   "source": [
    "## 데이터셋 분류 및 하이퍼파라미터 정의"
   ]
  },
  {
   "cell_type": "code",
   "execution_count": 3,
   "metadata": {},
   "outputs": [],
   "source": [
    "TEST_SPLIT = 0.1\n",
    "RNG_SEED = 13371447\n",
    "VOCAB_SIZE = prepro_configs['vocab_size']\n",
    "EMB_SIZE = 128\n",
    "BATCH_SIZE = 16\n",
    "NUM_EPOCHS = 1\n",
    "\n",
    "input_train, input_eval, label_train, label_eval = train_test_split(input_data, label_data, test_size=TEST_SPLIT, random_state=RNG_SEED)"
   ]
  },
  {
   "cell_type": "markdown",
   "metadata": {},
   "source": [
    "## 데이터 입력함수"
   ]
  },
  {
   "cell_type": "code",
   "execution_count": 4,
   "metadata": {},
   "outputs": [],
   "source": [
    "def mapping_fn(X, Y):\n",
    "    input, label = {'x': X}, Y\n",
    "    return input, label\n",
    "\n",
    "def train_input_fn():\n",
    "    dataset = tf.data.Dataset.from_tensor_slices((input_train, label_train))\n",
    "    dataset = dataset.shuffle(buffer_size=len(input_train))\n",
    "    dataset = dataset.batch(BATCH_SIZE)\n",
    "    dataset = dataset.map(mapping_fn)\n",
    "    dataset = dataset.repeat(count=NUM_EPOCHS)\n",
    "    iterator = dataset.make_one_shot_iterator()\n",
    "    \n",
    "    return iterator.get_next()\n",
    "\n",
    "def eval_input_fn():\n",
    "    dataset = tf.data.Dataset.from_tensor_slices((input_eval, label_eval))\n",
    "    dataset = dataset.shuffle(buffer_size=len(input_eval))\n",
    "    dataset = dataset.batch(16)\n",
    "    dataset = dataset.map(mapping_fn)\n",
    "    iterator = dataset.make_one_shot_iterator()\n",
    "    \n",
    "    return iterator.get_next()"
   ]
  },
  {
   "cell_type": "markdown",
   "metadata": {},
   "source": [
    "# CNN 모델함수\n",
    "\n",
    ": 여기서는 깊게 쌓지 않았다. (빠른학습을 위해), 영어 리뷰데이터보다 짧은 길이의 문장"
   ]
  },
  {
   "cell_type": "code",
   "execution_count": 5,
   "metadata": {},
   "outputs": [],
   "source": [
    "def model_fn(features, labels, mode, params):\n",
    "    TRAIN = mode == tf.estimator.ModeKeys.TRAIN\n",
    "    EVAL = mode == tf.estimator.ModeKeys.EVAL\n",
    "    PREDICT = mode == tf.estimator.ModeKeys.PREDICT\n",
    "\n",
    "    embedding_layer = tf.keras.layers.Embedding(VOCAB_SIZE,EMB_SIZE)(features['x'])\n",
    "\n",
    "    dropout_emb = tf.keras.layers.Dropout(rate = 0.2)(embedding_layer)\n",
    "    \n",
    "    conv = tf.layers.conv1d(\n",
    "           inputs=dropout_emb,\n",
    "           filters=32,\n",
    "           kernel_size=3,\n",
    "           padding='same',\n",
    "           activation=tf.nn.relu)\n",
    "  \n",
    "    pool = tf.keras.layers.GlobalMaxPool1D()(conv)\n",
    "\n",
    "    hidden = tf.keras.layers.Dense(units=250, activation=tf.nn.relu)(pool)   \n",
    "\n",
    "\n",
    "    dropout_hidden = tf.keras.layers.Dropout(rate=0.2)(hidden, training = TRAIN)\n",
    "    logits = tf.keras.layers.Dense(units=1)(dropout_hidden)\n",
    "\n",
    "    if labels is not None:\n",
    "        labels = tf.reshape(labels, [-1, 1])\n",
    "        \n",
    "    if TRAIN:\n",
    "        global_step = tf.train.get_global_step()\n",
    "        loss = tf.losses.sigmoid_cross_entropy(labels, logits)\n",
    "        train_op = tf.train.AdamOptimizer(0.001).minimize(loss, global_step)\n",
    "\n",
    "        return tf.estimator.EstimatorSpec(mode=mode, train_op=train_op, loss = loss)\n",
    "    \n",
    "    elif EVAL:\n",
    "        loss = tf.losses.sigmoid_cross_entropy(labels, logits)\n",
    "        pred = tf.nn.sigmoid(logits)\n",
    "        accuracy = tf.metrics.accuracy(labels, tf.round(pred))\n",
    "        return tf.estimator.EstimatorSpec(mode=mode, loss=loss, eval_metric_ops={'acc': accuracy})\n",
    "        \n",
    "    elif PREDICT:\n",
    "        return tf.estimator.EstimatorSpec(\n",
    "            mode=mode,\n",
    "            predictions={\n",
    "                'prob': tf.nn.sigmoid(logits),\n",
    "            }\n",
    "        )"
   ]
  },
  {
   "cell_type": "markdown",
   "metadata": {},
   "source": [
    "## 모델 학습 및 검증 with estimator"
   ]
  },
  {
   "cell_type": "code",
   "execution_count": 6,
   "metadata": {
    "scrolled": true
   },
   "outputs": [
    {
     "name": "stdout",
     "output_type": "stream",
     "text": [
      "INFO:tensorflow:Using default config.\n",
      "INFO:tensorflow:Using config: {'_model_dir': 'data_out/checkpoint/cnn_model', '_tf_random_seed': None, '_save_summary_steps': 100, '_save_checkpoints_steps': None, '_save_checkpoints_secs': 600, '_session_config': allow_soft_placement: true\n",
      "graph_options {\n",
      "  rewrite_options {\n",
      "    meta_optimizer_iterations: ONE\n",
      "  }\n",
      "}\n",
      ", '_keep_checkpoint_max': 5, '_keep_checkpoint_every_n_hours': 10000, '_log_step_count_steps': 100, '_train_distribute': None, '_device_fn': None, '_protocol': None, '_eval_distribute': None, '_experimental_distribute': None, '_service': None, '_cluster_spec': <tensorflow.python.training.server_lib.ClusterSpec object at 0x00000111BB6F9C18>, '_task_type': 'worker', '_task_id': 0, '_global_id_in_cluster': 0, '_master': '', '_evaluation_master': '', '_is_chief': True, '_num_ps_replicas': 0, '_num_worker_replicas': 1}\n",
      "WARNING:tensorflow:Estimator's model_fn (<function model_fn at 0x00000111B35ECEA0>) includes params argument, but params are not passed to Estimator.\n"
     ]
    }
   ],
   "source": [
    "est = tf.estimator.Estimator(model_fn, model_dir=\"data_out/checkpoint/cnn_model\")"
   ]
  },
  {
   "cell_type": "code",
   "execution_count": 1,
   "metadata": {
    "scrolled": true
   },
   "outputs": [],
   "source": [
    "time_start = datetime.utcnow()\n",
    "print(\"Experiment started at {}\".format(time_start.strftime(\"%H:%M:%S\")))\n",
    "print(\".......................................\") \n",
    "\n",
    "est.train(train_input_fn)\n",
    "\n",
    "time_end = datetime.utcnow()\n",
    "print(\".......................................\")\n",
    "print(\"Experiment finished at {}\".format(time_end.strftime(\"%H:%M:%S\")))\n",
    "print(\"\")\n",
    "time_elapsed = time_end - time_start\n",
    "print(\"Experiment elapsed time: {} seconds\".format(time_elapsed.total_seconds()))"
   ]
  },
  {
   "cell_type": "code",
   "execution_count": 8,
   "metadata": {},
   "outputs": [
    {
     "name": "stdout",
     "output_type": "stream",
     "text": [
      "INFO:tensorflow:Calling model_fn.\n",
      "INFO:tensorflow:Done calling model_fn.\n",
      "INFO:tensorflow:Starting evaluation at 2019-04-16T09:19:05Z\n",
      "INFO:tensorflow:Graph was finalized.\n",
      "INFO:tensorflow:Restoring parameters from data_out/checkpoint/cnn_model\\model.ckpt-8438\n",
      "INFO:tensorflow:Running local_init_op.\n",
      "INFO:tensorflow:Done running local_init_op.\n",
      "INFO:tensorflow:Finished evaluation at 2019-04-16-09:19:07\n",
      "INFO:tensorflow:Saving dict for global step 8438: acc = 0.82526666, global_step = 8438, loss = 0.39044076\n",
      "INFO:tensorflow:Saving 'checkpoint_path' summary for global step 8438: data_out/checkpoint/cnn_model\\model.ckpt-8438\n"
     ]
    }
   ],
   "source": [
    "valid = est.evaluate(eval_input_fn)"
   ]
  },
  {
   "cell_type": "markdown",
   "metadata": {},
   "source": [
    "## 모델 평가\n",
    "\n",
    ": label이 존재함 -> 직접 평가 가능"
   ]
  },
  {
   "cell_type": "code",
   "execution_count": 9,
   "metadata": {},
   "outputs": [],
   "source": [
    "INPUT_TEST_DATA = 'nsmc_test_input.npy'\n",
    "LABEL_TEST_DATA = 'nsmc_test_label.npy'\n",
    "\n",
    "test_input_data = np.load(open(DATA_IN_PATH + INPUT_TEST_DATA, 'rb'))\n",
    "test_label_data = np.load(open(DATA_IN_PATH + LABEL_TEST_DATA, 'rb'))"
   ]
  },
  {
   "cell_type": "code",
   "execution_count": 10,
   "metadata": {},
   "outputs": [],
   "source": [
    "def test_input_fn():\n",
    "    dataset = tf.data.Dataset.from_tensor_slices((test_input_data, test_label_data))\n",
    "    dataset = dataset.batch(16)\n",
    "    dataset = dataset.map(mapping_fn)\n",
    "    iterator = dataset.make_one_shot_iterator()\n",
    "    \n",
    "    return iterator.get_next()"
   ]
  },
  {
   "cell_type": "code",
   "execution_count": 11,
   "metadata": {
    "scrolled": false
   },
   "outputs": [
    {
     "name": "stdout",
     "output_type": "stream",
     "text": [
      "INFO:tensorflow:Calling model_fn.\n",
      "INFO:tensorflow:Done calling model_fn.\n",
      "INFO:tensorflow:Starting evaluation at 2019-04-16T09:19:08Z\n",
      "INFO:tensorflow:Graph was finalized.\n",
      "INFO:tensorflow:Restoring parameters from data_out/checkpoint/cnn_model\\model.ckpt-8438\n",
      "INFO:tensorflow:Running local_init_op.\n",
      "INFO:tensorflow:Done running local_init_op.\n",
      "INFO:tensorflow:Finished evaluation at 2019-04-16-09:19:12\n",
      "INFO:tensorflow:Saving dict for global step 8438: acc = 0.82322, global_step = 8438, loss = 0.39584005\n",
      "INFO:tensorflow:Saving 'checkpoint_path' summary for global step 8438: data_out/checkpoint/cnn_model\\model.ckpt-8438\n"
     ]
    }
   ],
   "source": [
    "predict = est.evaluate(test_input_fn) "
   ]
  },
  {
   "cell_type": "markdown",
   "metadata": {},
   "source": [
    "## 추가) 불용어를 제외하지 않는 경우"
   ]
  },
  {
   "cell_type": "code",
   "execution_count": 12,
   "metadata": {},
   "outputs": [],
   "source": [
    "# DATA_IN_PATH = './data_in/'\n",
    "# DATA_OUT_PATH = './data_out/'\n",
    "INPUT_TRAIN_DATA = 'nsmc_train_input2.npy'\n",
    "# LABEL_TRAIN_DATA = 'nsmc_train_label.npy'\n",
    "DATA_CONFIGS = 'data_configs2.json'\n",
    "\n",
    "input_data = np.load(open(DATA_IN_PATH + INPUT_TRAIN_DATA, 'rb'))\n",
    "label_data = np.load(open(DATA_IN_PATH + LABEL_TRAIN_DATA, 'rb'))\n",
    "prepro_configs = json.load(open(DATA_IN_PATH + DATA_CONFIGS, 'r'))"
   ]
  },
  {
   "cell_type": "code",
   "execution_count": 13,
   "metadata": {},
   "outputs": [],
   "source": [
    "# TEST_SPLIT = 0.1\n",
    "# RNG_SEED = 13371447\n",
    "VOCAB_SIZE = prepro_configs['vocab_size']\n",
    "# EMB_SIZE = 128\n",
    "# BATCH_SIZE = 16\n",
    "# NUM_EPOCHS = 1\n",
    "\n",
    "input_train, input_eval, label_train, label_eval = train_test_split(input_data, label_data, test_size=TEST_SPLIT, random_state=RNG_SEED)"
   ]
  },
  {
   "cell_type": "code",
   "execution_count": 14,
   "metadata": {
    "scrolled": true
   },
   "outputs": [
    {
     "name": "stdout",
     "output_type": "stream",
     "text": [
      "INFO:tensorflow:Using default config.\n",
      "INFO:tensorflow:Using config: {'_model_dir': 'data_out/checkpoint/cnn_model', '_tf_random_seed': None, '_save_summary_steps': 100, '_save_checkpoints_steps': None, '_save_checkpoints_secs': 600, '_session_config': allow_soft_placement: true\n",
      "graph_options {\n",
      "  rewrite_options {\n",
      "    meta_optimizer_iterations: ONE\n",
      "  }\n",
      "}\n",
      ", '_keep_checkpoint_max': 5, '_keep_checkpoint_every_n_hours': 10000, '_log_step_count_steps': 100, '_train_distribute': None, '_device_fn': None, '_protocol': None, '_eval_distribute': None, '_experimental_distribute': None, '_service': None, '_cluster_spec': <tensorflow.python.training.server_lib.ClusterSpec object at 0x00000111C1004B00>, '_task_type': 'worker', '_task_id': 0, '_global_id_in_cluster': 0, '_master': '', '_evaluation_master': '', '_is_chief': True, '_num_ps_replicas': 0, '_num_worker_replicas': 1}\n",
      "WARNING:tensorflow:Estimator's model_fn (<function model_fn at 0x00000111B35ECEA0>) includes params argument, but params are not passed to Estimator.\n"
     ]
    }
   ],
   "source": [
    "est = tf.estimator.Estimator(model_fn, model_dir=\"data_out/checkpoint/cnn_model\")"
   ]
  },
  {
   "cell_type": "code",
   "execution_count": 15,
   "metadata": {
    "scrolled": true
   },
   "outputs": [
    {
     "name": "stdout",
     "output_type": "stream",
     "text": [
      "Experiment started at 11:00:33\n",
      ".......................................\n",
      "INFO:tensorflow:Calling model_fn.\n",
      "INFO:tensorflow:Done calling model_fn.\n",
      "INFO:tensorflow:Create CheckpointSaverHook.\n",
      "INFO:tensorflow:Graph was finalized.\n",
      "INFO:tensorflow:Restoring parameters from data_out/checkpoint/cnn_model\\model.ckpt-8438\n",
      "INFO:tensorflow:Running local_init_op.\n",
      "INFO:tensorflow:Done running local_init_op.\n",
      "INFO:tensorflow:Saving checkpoints for 8438 into data_out/checkpoint/cnn_model\\model.ckpt.\n",
      "INFO:tensorflow:loss = 0.8431592, step = 8439\n",
      "INFO:tensorflow:global_step/sec: 10.5372\n",
      "INFO:tensorflow:loss = 0.68922603, step = 8539 (9.496 sec)\n",
      "INFO:tensorflow:global_step/sec: 12.0617\n",
      "INFO:tensorflow:loss = 0.64566255, step = 8639 (8.291 sec)\n",
      "INFO:tensorflow:global_step/sec: 12.0594\n",
      "INFO:tensorflow:loss = 0.62867254, step = 8739 (8.289 sec)\n",
      "INFO:tensorflow:global_step/sec: 12.102\n",
      "INFO:tensorflow:loss = 0.61643004, step = 8839 (8.265 sec)\n",
      "INFO:tensorflow:global_step/sec: 12.0974\n",
      "INFO:tensorflow:loss = 0.56310713, step = 8939 (8.266 sec)\n",
      "INFO:tensorflow:global_step/sec: 12.0897\n",
      "INFO:tensorflow:loss = 0.57859117, step = 9039 (8.270 sec)\n",
      "INFO:tensorflow:global_step/sec: 12.0097\n",
      "INFO:tensorflow:loss = 0.49235976, step = 9139 (8.329 sec)\n",
      "INFO:tensorflow:global_step/sec: 12.0296\n",
      "INFO:tensorflow:loss = 0.39493662, step = 9239 (8.313 sec)\n",
      "INFO:tensorflow:global_step/sec: 12.0306\n",
      "INFO:tensorflow:loss = 0.7589822, step = 9339 (8.311 sec)\n",
      "INFO:tensorflow:global_step/sec: 12.0759\n",
      "INFO:tensorflow:loss = 0.412738, step = 9439 (8.279 sec)\n",
      "INFO:tensorflow:global_step/sec: 12.0402\n",
      "INFO:tensorflow:loss = 0.5035511, step = 9539 (8.304 sec)\n",
      "INFO:tensorflow:global_step/sec: 11.9735\n",
      "INFO:tensorflow:loss = 0.67063475, step = 9639 (8.354 sec)\n",
      "INFO:tensorflow:global_step/sec: 12.2278\n",
      "INFO:tensorflow:loss = 0.6692766, step = 9739 (8.175 sec)\n",
      "INFO:tensorflow:global_step/sec: 11.9773\n",
      "INFO:tensorflow:loss = 0.36505312, step = 9839 (8.354 sec)\n",
      "INFO:tensorflow:global_step/sec: 12.0084\n",
      "INFO:tensorflow:loss = 0.60142076, step = 9939 (8.328 sec)\n",
      "INFO:tensorflow:global_step/sec: 11.9961\n",
      "INFO:tensorflow:loss = 0.4745072, step = 10039 (8.334 sec)\n",
      "INFO:tensorflow:global_step/sec: 12.1307\n",
      "INFO:tensorflow:loss = 0.31458023, step = 10139 (8.246 sec)\n",
      "INFO:tensorflow:global_step/sec: 12.072\n",
      "INFO:tensorflow:loss = 0.64533734, step = 10239 (8.283 sec)\n",
      "INFO:tensorflow:global_step/sec: 12.2129\n",
      "INFO:tensorflow:loss = 0.45044285, step = 10339 (8.188 sec)\n",
      "INFO:tensorflow:global_step/sec: 11.6488\n",
      "INFO:tensorflow:loss = 0.3954618, step = 10439 (8.584 sec)\n",
      "INFO:tensorflow:global_step/sec: 11.489\n",
      "INFO:tensorflow:loss = 0.3267797, step = 10539 (8.701 sec)\n",
      "INFO:tensorflow:global_step/sec: 11.7302\n",
      "INFO:tensorflow:loss = 0.463872, step = 10639 (8.523 sec)\n",
      "INFO:tensorflow:global_step/sec: 12.1088\n",
      "INFO:tensorflow:loss = 0.49304384, step = 10739 (8.260 sec)\n",
      "INFO:tensorflow:global_step/sec: 12.0128\n",
      "INFO:tensorflow:loss = 0.2506174, step = 10839 (8.326 sec)\n",
      "INFO:tensorflow:global_step/sec: 12.2142\n",
      "INFO:tensorflow:loss = 0.30978, step = 10939 (8.186 sec)\n",
      "INFO:tensorflow:global_step/sec: 11.9886\n",
      "INFO:tensorflow:loss = 0.8187352, step = 11039 (8.339 sec)\n",
      "INFO:tensorflow:global_step/sec: 12.1336\n",
      "INFO:tensorflow:loss = 0.8050294, step = 11139 (8.247 sec)\n",
      "INFO:tensorflow:global_step/sec: 11.8052\n",
      "INFO:tensorflow:loss = 0.5060352, step = 11239 (8.469 sec)\n",
      "INFO:tensorflow:global_step/sec: 12.1009\n",
      "INFO:tensorflow:loss = 0.86570776, step = 11339 (8.271 sec)\n",
      "INFO:tensorflow:global_step/sec: 12.1617\n",
      "INFO:tensorflow:loss = 0.4221521, step = 11439 (8.217 sec)\n",
      "INFO:tensorflow:global_step/sec: 12.215\n",
      "INFO:tensorflow:loss = 0.9295896, step = 11539 (8.187 sec)\n",
      "INFO:tensorflow:global_step/sec: 10.6873\n",
      "INFO:tensorflow:loss = 0.6245322, step = 11639 (9.357 sec)\n",
      "INFO:tensorflow:global_step/sec: 10.4654\n",
      "INFO:tensorflow:loss = 0.6698156, step = 11739 (9.554 sec)\n",
      "INFO:tensorflow:global_step/sec: 10.5064\n",
      "INFO:tensorflow:loss = 0.41457048, step = 11839 (9.515 sec)\n",
      "INFO:tensorflow:global_step/sec: 12.3576\n",
      "INFO:tensorflow:loss = 0.42604226, step = 11939 (8.097 sec)\n",
      "INFO:tensorflow:global_step/sec: 12.1065\n",
      "INFO:tensorflow:loss = 0.19329084, step = 12039 (8.260 sec)\n",
      "INFO:tensorflow:global_step/sec: 11.8986\n",
      "INFO:tensorflow:loss = 0.42739064, step = 12139 (8.403 sec)\n",
      "INFO:tensorflow:global_step/sec: 12.3314\n",
      "INFO:tensorflow:loss = 0.3854931, step = 12239 (8.108 sec)\n",
      "INFO:tensorflow:global_step/sec: 12.2903\n",
      "INFO:tensorflow:loss = 0.2378999, step = 12339 (8.137 sec)\n",
      "INFO:tensorflow:global_step/sec: 12.2277\n",
      "INFO:tensorflow:loss = 0.46991324, step = 12439 (8.175 sec)\n",
      "INFO:tensorflow:global_step/sec: 12.0826\n",
      "INFO:tensorflow:loss = 0.22832355, step = 12539 (8.280 sec)\n",
      "INFO:tensorflow:global_step/sec: 12.3074\n",
      "INFO:tensorflow:loss = 0.27528226, step = 12639 (8.126 sec)\n",
      "INFO:tensorflow:global_step/sec: 11.7404\n",
      "INFO:tensorflow:loss = 0.58537257, step = 12739 (8.516 sec)\n",
      "INFO:tensorflow:global_step/sec: 11.8993\n",
      "INFO:tensorflow:loss = 0.48520645, step = 12839 (8.407 sec)\n",
      "INFO:tensorflow:global_step/sec: 11.8368\n",
      "INFO:tensorflow:loss = 0.31299603, step = 12939 (8.445 sec)\n",
      "INFO:tensorflow:global_step/sec: 12.1034\n",
      "INFO:tensorflow:loss = 0.48656398, step = 13039 (8.263 sec)\n",
      "INFO:tensorflow:global_step/sec: 12.0353\n",
      "INFO:tensorflow:loss = 0.37142748, step = 13139 (8.311 sec)\n",
      "INFO:tensorflow:global_step/sec: 12.1843\n",
      "INFO:tensorflow:loss = 0.22203359, step = 13239 (8.206 sec)\n",
      "INFO:tensorflow:global_step/sec: 12.28\n",
      "INFO:tensorflow:loss = 0.4005438, step = 13339 (8.143 sec)\n",
      "INFO:tensorflow:global_step/sec: 12.2077\n",
      "INFO:tensorflow:loss = 0.1879358, step = 13439 (8.193 sec)\n",
      "INFO:tensorflow:global_step/sec: 12.0924\n",
      "INFO:tensorflow:loss = 0.48743758, step = 13539 (8.270 sec)\n",
      "INFO:tensorflow:global_step/sec: 12.2299\n",
      "INFO:tensorflow:loss = 0.7057594, step = 13639 (8.180 sec)\n",
      "INFO:tensorflow:global_step/sec: 12.1596\n",
      "INFO:tensorflow:loss = 0.2876486, step = 13739 (8.217 sec)\n",
      "INFO:tensorflow:global_step/sec: 12.1402\n",
      "INFO:tensorflow:loss = 0.45125538, step = 13839 (8.241 sec)\n",
      "INFO:tensorflow:global_step/sec: 12.2803\n",
      "INFO:tensorflow:loss = 0.59412575, step = 13939 (8.147 sec)\n",
      "INFO:tensorflow:global_step/sec: 12.1446\n",
      "INFO:tensorflow:loss = 0.23020646, step = 14039 (8.232 sec)\n",
      "INFO:tensorflow:global_step/sec: 11.798\n",
      "INFO:tensorflow:loss = 0.28654146, step = 14139 (8.472 sec)\n",
      "INFO:tensorflow:global_step/sec: 12.0429\n",
      "INFO:tensorflow:loss = 0.73876065, step = 14239 (8.306 sec)\n",
      "INFO:tensorflow:global_step/sec: 12.1577\n",
      "INFO:tensorflow:loss = 0.24835257, step = 14339 (8.231 sec)\n",
      "INFO:tensorflow:global_step/sec: 11.798\n",
      "INFO:tensorflow:loss = 0.4713957, step = 14439 (8.469 sec)\n",
      "INFO:tensorflow:global_step/sec: 12.3139\n",
      "INFO:tensorflow:loss = 0.24498554, step = 14539 (8.123 sec)\n",
      "INFO:tensorflow:global_step/sec: 12.0935\n",
      "INFO:tensorflow:loss = 0.21315351, step = 14639 (8.268 sec)\n",
      "INFO:tensorflow:global_step/sec: 12.0411\n",
      "INFO:tensorflow:loss = 0.37317333, step = 14739 (8.299 sec)\n",
      "INFO:tensorflow:global_step/sec: 12.2415\n",
      "INFO:tensorflow:loss = 0.58599746, step = 14839 (8.174 sec)\n",
      "INFO:tensorflow:global_step/sec: 12.1881\n",
      "INFO:tensorflow:loss = 0.34195453, step = 14939 (8.208 sec)\n",
      "INFO:tensorflow:global_step/sec: 12.1494\n",
      "INFO:tensorflow:loss = 0.3683608, step = 15039 (8.228 sec)\n",
      "INFO:tensorflow:global_step/sec: 12.0511\n",
      "INFO:tensorflow:loss = 0.65284693, step = 15139 (8.293 sec)\n",
      "INFO:tensorflow:global_step/sec: 12.0849\n",
      "INFO:tensorflow:loss = 0.17806676, step = 15239 (8.277 sec)\n",
      "INFO:tensorflow:global_step/sec: 12.2346\n",
      "INFO:tensorflow:loss = 0.5104844, step = 15339 (8.171 sec)\n",
      "INFO:tensorflow:global_step/sec: 12.048\n",
      "INFO:tensorflow:loss = 0.33857036, step = 15439 (8.302 sec)\n",
      "INFO:tensorflow:global_step/sec: 11.9658\n",
      "INFO:tensorflow:loss = 0.62494993, step = 15539 (8.358 sec)\n",
      "INFO:tensorflow:Saving checkpoints for 15602 into data_out/checkpoint/cnn_model\\model.ckpt.\n",
      "INFO:tensorflow:global_step/sec: 9.76238\n",
      "INFO:tensorflow:loss = 0.24786419, step = 15639 (10.242 sec)\n",
      "INFO:tensorflow:global_step/sec: 12.0649\n",
      "INFO:tensorflow:loss = 0.5846088, step = 15739 (8.290 sec)\n",
      "INFO:tensorflow:global_step/sec: 12.2014\n",
      "INFO:tensorflow:loss = 0.82011664, step = 15839 (8.202 sec)\n",
      "INFO:tensorflow:global_step/sec: 12.1493\n",
      "INFO:tensorflow:loss = 0.29497004, step = 15939 (8.225 sec)\n",
      "INFO:tensorflow:global_step/sec: 12.1698\n",
      "INFO:tensorflow:loss = 0.6267824, step = 16039 (8.218 sec)\n"
     ]
    },
    {
     "name": "stdout",
     "output_type": "stream",
     "text": [
      "INFO:tensorflow:global_step/sec: 12.0231\n",
      "INFO:tensorflow:loss = 0.29763907, step = 16139 (8.318 sec)\n",
      "INFO:tensorflow:global_step/sec: 12.0832\n",
      "INFO:tensorflow:loss = 0.44617355, step = 16239 (8.274 sec)\n",
      "INFO:tensorflow:global_step/sec: 12.0821\n",
      "INFO:tensorflow:loss = 0.288944, step = 16339 (8.277 sec)\n",
      "INFO:tensorflow:global_step/sec: 12.1134\n",
      "INFO:tensorflow:loss = 0.5931164, step = 16439 (8.254 sec)\n",
      "INFO:tensorflow:global_step/sec: 12.2116\n",
      "INFO:tensorflow:loss = 0.33334494, step = 16539 (8.187 sec)\n",
      "INFO:tensorflow:global_step/sec: 12.0525\n",
      "INFO:tensorflow:loss = 0.3811377, step = 16639 (8.301 sec)\n",
      "INFO:tensorflow:global_step/sec: 12.0229\n",
      "INFO:tensorflow:loss = 0.38207665, step = 16739 (8.315 sec)\n",
      "INFO:tensorflow:global_step/sec: 11.7361\n",
      "INFO:tensorflow:loss = 0.33402896, step = 16839 (8.524 sec)\n",
      "INFO:tensorflow:Saving checkpoints for 16876 into data_out/checkpoint/cnn_model\\model.ckpt.\n",
      "INFO:tensorflow:Loss for final step: 0.05900701.\n",
      ".......................................\n",
      "Experiment finished at 11:12:34\n",
      "\n",
      "Experiment elapsed time: 721.090593 seconds\n"
     ]
    }
   ],
   "source": [
    "time_start = datetime.utcnow()\n",
    "print(\"Experiment started at {}\".format(time_start.strftime(\"%H:%M:%S\")))\n",
    "print(\".......................................\") \n",
    "\n",
    "est.train(train_input_fn)\n",
    "\n",
    "time_end = datetime.utcnow()\n",
    "print(\".......................................\")\n",
    "print(\"Experiment finished at {}\".format(time_end.strftime(\"%H:%M:%S\")))\n",
    "print(\"\")\n",
    "time_elapsed = time_end - time_start\n",
    "print(\"Experiment elapsed time: {} seconds\".format(time_elapsed.total_seconds()))"
   ]
  },
  {
   "cell_type": "code",
   "execution_count": 16,
   "metadata": {},
   "outputs": [
    {
     "name": "stdout",
     "output_type": "stream",
     "text": [
      "INFO:tensorflow:Calling model_fn.\n",
      "INFO:tensorflow:Done calling model_fn.\n",
      "INFO:tensorflow:Starting evaluation at 2019-04-16T11:12:34Z\n",
      "INFO:tensorflow:Graph was finalized.\n",
      "INFO:tensorflow:Restoring parameters from data_out/checkpoint/cnn_model\\model.ckpt-16876\n",
      "INFO:tensorflow:Running local_init_op.\n",
      "INFO:tensorflow:Done running local_init_op.\n",
      "INFO:tensorflow:Finished evaluation at 2019-04-16-11:12:37\n",
      "INFO:tensorflow:Saving dict for global step 16876: acc = 0.81986666, global_step = 16876, loss = 0.39604995\n",
      "INFO:tensorflow:Saving 'checkpoint_path' summary for global step 16876: data_out/checkpoint/cnn_model\\model.ckpt-16876\n"
     ]
    }
   ],
   "source": [
    "valid = est.evaluate(eval_input_fn)"
   ]
  },
  {
   "cell_type": "code",
   "execution_count": 17,
   "metadata": {},
   "outputs": [],
   "source": [
    "INPUT_TEST_DATA = 'nsmc_test_input2.npy'\n",
    "LABEL_TEST_DATA = 'nsmc_test_label.npy'\n",
    "\n",
    "test_input_data = np.load(open(DATA_IN_PATH + INPUT_TEST_DATA, 'rb'))\n",
    "test_label_data = np.load(open(DATA_IN_PATH + LABEL_TEST_DATA, 'rb'))"
   ]
  },
  {
   "cell_type": "code",
   "execution_count": 18,
   "metadata": {
    "scrolled": false
   },
   "outputs": [
    {
     "name": "stdout",
     "output_type": "stream",
     "text": [
      "INFO:tensorflow:Calling model_fn.\n",
      "INFO:tensorflow:Done calling model_fn.\n",
      "INFO:tensorflow:Starting evaluation at 2019-04-16T11:12:37Z\n",
      "INFO:tensorflow:Graph was finalized.\n",
      "INFO:tensorflow:Restoring parameters from data_out/checkpoint/cnn_model\\model.ckpt-16876\n",
      "INFO:tensorflow:Running local_init_op.\n",
      "INFO:tensorflow:Done running local_init_op.\n",
      "INFO:tensorflow:Finished evaluation at 2019-04-16-11:12:44\n",
      "INFO:tensorflow:Saving dict for global step 16876: acc = 0.81646, global_step = 16876, loss = 0.40052652\n",
      "INFO:tensorflow:Saving 'checkpoint_path' summary for global step 16876: data_out/checkpoint/cnn_model\\model.ckpt-16876\n"
     ]
    }
   ],
   "source": [
    "predict = est.evaluate(test_input_fn) "
   ]
  },
  {
   "cell_type": "code",
   "execution_count": null,
   "metadata": {},
   "outputs": [],
   "source": [
    "# acc = 0.82322, global_step = 8438, loss = 0.39584005  # 불용어 제거 후가 더 높은 정확도를 보임"
   ]
  },
  {
   "cell_type": "markdown",
   "metadata": {},
   "source": [
    "## RNN 모델\n",
    "\n",
    ": rnn을 이용하여 더 깊은 층을 사용한 정확도를 얻고자 한다."
   ]
  },
  {
   "cell_type": "code",
   "execution_count": 20,
   "metadata": {},
   "outputs": [],
   "source": [
    "def model_fn(features, labels, mode):\n",
    "    TRAIN = mode == tf.estimator.ModeKeys.TRAIN\n",
    "    EVAL = mode == tf.estimator.ModeKeys.EVAL\n",
    "    PREDICT = mode == tf.estimator.ModeKeys.PREDICT\n",
    "    \n",
    "    embedding_layer = tf.keras.layers.Embedding(VOCAB_SIZE, WORD_EMBEDDING_DIM)(features['x'])\n",
    "    \n",
    "    embedding_layer = tf.keras.layers.Dropout(0.2)(embedding_layer)\n",
    "    \n",
    "    # 순환신경망 구현\n",
    "    rnn_layers = [tf.nn.rnn_cell.LSTMCell(size) for size in [HIDDEN_STATE_DIM, HIDDEN_STATE_DIM]]  # -> keras.layers.LSTM(cell)으로 대체\n",
    "    # 여러 LSTM 쌓기 (wrapping)\n",
    "    multi_rnn_cell = tf.nn.rnn_cell.MultiRNNCell(rnn_layers)  # -> tf.keras.layers.StackedRNNCells\n",
    "\n",
    "    # 네트워크와 임베딩 벡터를 연산\n",
    "    outputs, state = tf.nn.dynamic_rnn(cell=multi_rnn_cell,\n",
    "                                       inputs=embedding_layer,\n",
    "                                       dtype=tf.float32)\n",
    "    \n",
    "    outputs = tf.keras.layers.Dropout(0.2)(outputs)\n",
    "    hidden_layer = tf.keras.layers.Dense(DENSE_FEATURE_DIM, activation=tf.nn.tanh)(outputs[:,-1,:])\n",
    "    hidden_layer = tf.keras.layers.Dropout(0.2)(hidden_layer)\n",
    "    logits = tf.keras.layers.Dense(1)(hidden_layer)\n",
    "    logits = tf.squeeze(logits, axis=-1)\n",
    "    \n",
    "    sigmoid_logits = tf.nn.sigmoid(logits)\n",
    "    \n",
    "    if PREDICT: # 예측구현\n",
    "        predictions = {'sentiment': sigmoid_logits}  # 출력값 [0,1]\n",
    "        \n",
    "        return tf.estimator.EstimatorSpec(mode=mode,\n",
    "                                          predictions=predictions)\n",
    "    \n",
    "    loss = tf.losses.sigmoid_cross_entropy(labels, logits)\n",
    "    \n",
    "    if EVAL:\n",
    "        accuracy = tf.metrics.accuracy(labels, tf.round(sigmoid_logits))\n",
    "        eval_metric_ops = {'acc': accuracy}\n",
    "\n",
    "        return tf.estimator.EstimatorSpec(mode, loss=loss, eval_metric_ops=eval_metric_ops)\n",
    "    \n",
    "    if TRAIN:\n",
    "        global_step = tf.train.get_global_step()\n",
    "        train_op = tf.train.AdamOptimizer(learning_rate).minimize(loss, global_step) # 아담 옵티마이저로 모델 파라미터 최적화\n",
    "\n",
    "        return tf.estimator.EstimatorSpec(mode=mode,\n",
    "                                          train_op=train_op,\n",
    "                                          loss=loss)"
   ]
  },
  {
   "cell_type": "code",
   "execution_count": 21,
   "metadata": {},
   "outputs": [
    {
     "name": "stdout",
     "output_type": "stream",
     "text": [
      "INFO:tensorflow:Using default config.\n",
      "INFO:tensorflow:Using config: {'_model_dir': './data_out/checkpoint/rnn', '_tf_random_seed': None, '_save_summary_steps': 100, '_save_checkpoints_steps': None, '_save_checkpoints_secs': 600, '_session_config': allow_soft_placement: true\n",
      "graph_options {\n",
      "  rewrite_options {\n",
      "    meta_optimizer_iterations: ONE\n",
      "  }\n",
      "}\n",
      ", '_keep_checkpoint_max': 5, '_keep_checkpoint_every_n_hours': 10000, '_log_step_count_steps': 100, '_train_distribute': None, '_device_fn': None, '_protocol': None, '_eval_distribute': None, '_experimental_distribute': None, '_service': None, '_cluster_spec': <tensorflow.python.training.server_lib.ClusterSpec object at 0x00000111DF0C2710>, '_task_type': 'worker', '_task_id': 0, '_global_id_in_cluster': 0, '_master': '', '_evaluation_master': '', '_is_chief': True, '_num_ps_replicas': 0, '_num_worker_replicas': 1}\n"
     ]
    }
   ],
   "source": [
    "if not os.path.exists(DATA_OUT_PATH):\n",
    "    os.makedirs(DATA_OUT_PATH)\n",
    "\n",
    "# estimator 객체 생성(rnn)\n",
    "est = tf.estimator.Estimator(model_fn=model_fn,\n",
    "                             model_dir=DATA_OUT_PATH + 'checkpoint/rnn') "
   ]
  },
  {
   "cell_type": "code",
   "execution_count": 22,
   "metadata": {},
   "outputs": [],
   "source": [
    "# DATA_IN_PATH = './data_in/'\n",
    "# DATA_OUT_PATH = './data_out/'\n",
    "INPUT_TRAIN_DATA = 'nsmc_train_input.npy'\n",
    "# LABEL_TRAIN_DATA = 'nsmc_train_label.npy'\n",
    "DATA_CONFIGS = 'data_configs.json'\n",
    "\n",
    "input_data = np.load(open(DATA_IN_PATH + INPUT_TRAIN_DATA, 'rb'))\n",
    "label_data = np.load(open(DATA_IN_PATH + LABEL_TRAIN_DATA, 'rb'))\n",
    "prepro_configs = json.load(open(DATA_IN_PATH + DATA_CONFIGS, 'r'))\n",
    "\n",
    "VOCAB_SIZE = prepro_configs['vocab_size']+1\n",
    "WORD_EMBEDDING_DIM = 100\n",
    "HIDDEN_STATE_DIM = 150\n",
    "DENSE_FEATURE_DIM = 150\n",
    "\n",
    "learning_rate = 0.001\n",
    "\n",
    "input_train, input_eval, label_train, label_eval = train_test_split(input_data, label_data, test_size=TEST_SPLIT, random_state=RNG_SEED)"
   ]
  },
  {
   "cell_type": "code",
   "execution_count": 23,
   "metadata": {
    "scrolled": true
   },
   "outputs": [
    {
     "name": "stdout",
     "output_type": "stream",
     "text": [
      "INFO:tensorflow:Calling model_fn.\n",
      "WARNING:tensorflow:From <ipython-input-20-2bf62281a0b0>:11: LSTMCell.__init__ (from tensorflow.python.ops.rnn_cell_impl) is deprecated and will be removed in a future version.\n",
      "Instructions for updating:\n",
      "This class is equivalent as tf.keras.layers.LSTMCell, and will be replaced by that in Tensorflow 2.0.\n",
      "WARNING:tensorflow:From <ipython-input-20-2bf62281a0b0>:13: MultiRNNCell.__init__ (from tensorflow.python.ops.rnn_cell_impl) is deprecated and will be removed in a future version.\n",
      "Instructions for updating:\n",
      "This class is equivalent as tf.keras.layers.StackedRNNCells, and will be replaced by that in Tensorflow 2.0.\n",
      "WARNING:tensorflow:From <ipython-input-20-2bf62281a0b0>:18: dynamic_rnn (from tensorflow.python.ops.rnn) is deprecated and will be removed in a future version.\n",
      "Instructions for updating:\n",
      "Please use `keras.layers.RNN(cell)`, which is equivalent to this API\n",
      "INFO:tensorflow:Done calling model_fn.\n",
      "INFO:tensorflow:Create CheckpointSaverHook.\n",
      "INFO:tensorflow:Graph was finalized.\n",
      "INFO:tensorflow:Restoring parameters from ./data_out/checkpoint/rnn\\model.ckpt-4221\n",
      "INFO:tensorflow:Running local_init_op.\n",
      "INFO:tensorflow:Done running local_init_op.\n",
      "INFO:tensorflow:Saving checkpoints for 4221 into ./data_out/checkpoint/rnn\\model.ckpt.\n",
      "INFO:tensorflow:loss = 0.90629137, step = 4222\n",
      "INFO:tensorflow:global_step/sec: 9.13409\n",
      "INFO:tensorflow:loss = 0.6931577, step = 4322 (10.953 sec)\n",
      "INFO:tensorflow:global_step/sec: 11.1253\n",
      "INFO:tensorflow:loss = 0.6609422, step = 4422 (8.985 sec)\n",
      "INFO:tensorflow:global_step/sec: 11.2529\n",
      "INFO:tensorflow:loss = 0.76534474, step = 4522 (8.889 sec)\n",
      "INFO:tensorflow:global_step/sec: 11.1762\n",
      "INFO:tensorflow:loss = 0.63015914, step = 4622 (8.946 sec)\n",
      "INFO:tensorflow:global_step/sec: 11.0703\n",
      "INFO:tensorflow:loss = 0.51256406, step = 4722 (9.035 sec)\n",
      "INFO:tensorflow:global_step/sec: 11.5344\n",
      "INFO:tensorflow:loss = 0.49195546, step = 4822 (8.670 sec)\n",
      "INFO:tensorflow:global_step/sec: 11.2895\n",
      "INFO:tensorflow:loss = 0.54978573, step = 4922 (8.857 sec)\n",
      "INFO:tensorflow:global_step/sec: 10.9664\n",
      "INFO:tensorflow:loss = 0.5926452, step = 5022 (9.119 sec)\n",
      "INFO:tensorflow:global_step/sec: 11.6254\n",
      "INFO:tensorflow:loss = 0.6272093, step = 5122 (8.601 sec)\n",
      "INFO:tensorflow:global_step/sec: 10.6594\n",
      "INFO:tensorflow:loss = 0.61933327, step = 5222 (9.381 sec)\n",
      "INFO:tensorflow:global_step/sec: 11.0987\n",
      "INFO:tensorflow:loss = 0.3657202, step = 5322 (9.011 sec)\n",
      "INFO:tensorflow:global_step/sec: 11.3776\n",
      "INFO:tensorflow:loss = 0.4341548, step = 5422 (8.795 sec)\n",
      "INFO:tensorflow:global_step/sec: 11.2478\n",
      "INFO:tensorflow:loss = 0.5281398, step = 5522 (8.883 sec)\n",
      "INFO:tensorflow:global_step/sec: 11.4824\n",
      "INFO:tensorflow:loss = 0.37003163, step = 5622 (8.707 sec)\n",
      "INFO:tensorflow:global_step/sec: 11.5289\n",
      "INFO:tensorflow:loss = 0.32536185, step = 5722 (8.678 sec)\n",
      "INFO:tensorflow:global_step/sec: 11.4702\n",
      "INFO:tensorflow:loss = 0.47091326, step = 5822 (8.717 sec)\n",
      "INFO:tensorflow:global_step/sec: 11.4988\n",
      "INFO:tensorflow:loss = 0.3266979, step = 5922 (8.697 sec)\n",
      "INFO:tensorflow:global_step/sec: 11.4517\n",
      "INFO:tensorflow:loss = 0.44544303, step = 6022 (8.730 sec)\n",
      "INFO:tensorflow:global_step/sec: 11.6027\n",
      "INFO:tensorflow:loss = 0.7636368, step = 6122 (8.622 sec)\n",
      "INFO:tensorflow:global_step/sec: 11.6527\n",
      "INFO:tensorflow:loss = 0.3631875, step = 6222 (8.581 sec)\n",
      "INFO:tensorflow:global_step/sec: 11.441\n",
      "INFO:tensorflow:loss = 0.7364505, step = 6322 (8.741 sec)\n",
      "INFO:tensorflow:global_step/sec: 10.7221\n",
      "INFO:tensorflow:loss = 0.47454825, step = 6422 (9.324 sec)\n",
      "INFO:tensorflow:global_step/sec: 10.5485\n",
      "INFO:tensorflow:loss = 0.28202635, step = 6522 (9.481 sec)\n",
      "INFO:tensorflow:global_step/sec: 11.3745\n",
      "INFO:tensorflow:loss = 0.39582598, step = 6622 (8.792 sec)\n",
      "INFO:tensorflow:global_step/sec: 11.1172\n",
      "INFO:tensorflow:loss = 0.46526134, step = 6722 (8.993 sec)\n",
      "INFO:tensorflow:global_step/sec: 11.3956\n",
      "INFO:tensorflow:loss = 0.6644139, step = 6822 (8.781 sec)\n",
      "INFO:tensorflow:global_step/sec: 11.5654\n",
      "INFO:tensorflow:loss = 0.35591722, step = 6922 (8.643 sec)\n",
      "INFO:tensorflow:global_step/sec: 11.4821\n",
      "INFO:tensorflow:loss = 0.4082044, step = 7022 (8.711 sec)\n",
      "INFO:tensorflow:global_step/sec: 11.4613\n",
      "INFO:tensorflow:loss = 0.5793045, step = 7122 (8.725 sec)\n",
      "INFO:tensorflow:global_step/sec: 11.4219\n",
      "INFO:tensorflow:loss = 0.5370397, step = 7222 (8.753 sec)\n",
      "INFO:tensorflow:global_step/sec: 11.4788\n",
      "INFO:tensorflow:loss = 0.63555425, step = 7322 (8.714 sec)\n",
      "INFO:tensorflow:global_step/sec: 10.9931\n",
      "INFO:tensorflow:loss = 0.32563114, step = 7422 (9.092 sec)\n",
      "INFO:tensorflow:global_step/sec: 11.007\n",
      "INFO:tensorflow:loss = 0.36863208, step = 7522 (9.089 sec)\n",
      "INFO:tensorflow:global_step/sec: 11.6532\n",
      "INFO:tensorflow:loss = 0.29325187, step = 7622 (8.579 sec)\n",
      "INFO:tensorflow:global_step/sec: 10.9489\n",
      "INFO:tensorflow:loss = 0.3740018, step = 7722 (9.131 sec)\n",
      "INFO:tensorflow:global_step/sec: 11.5423\n",
      "INFO:tensorflow:loss = 0.49134976, step = 7822 (8.668 sec)\n",
      "INFO:tensorflow:global_step/sec: 11.5147\n",
      "INFO:tensorflow:loss = 0.36629844, step = 7922 (8.685 sec)\n",
      "INFO:tensorflow:global_step/sec: 11.5371\n",
      "INFO:tensorflow:loss = 0.22493762, step = 8022 (8.663 sec)\n",
      "INFO:tensorflow:global_step/sec: 11.2069\n",
      "INFO:tensorflow:loss = 0.29379436, step = 8122 (8.927 sec)\n",
      "INFO:tensorflow:global_step/sec: 11.4971\n",
      "INFO:tensorflow:loss = 0.27227533, step = 8222 (8.700 sec)\n",
      "INFO:tensorflow:global_step/sec: 11.5424\n",
      "INFO:tensorflow:loss = 0.24851152, step = 8322 (8.658 sec)\n",
      "INFO:tensorflow:global_step/sec: 11.439\n",
      "INFO:tensorflow:loss = 0.48006725, step = 8422 (8.745 sec)\n",
      "INFO:tensorflow:global_step/sec: 11.55\n",
      "INFO:tensorflow:loss = 0.44400072, step = 8522 (8.658 sec)\n",
      "INFO:tensorflow:global_step/sec: 11.0094\n",
      "INFO:tensorflow:loss = 0.84673405, step = 8622 (9.085 sec)\n",
      "INFO:tensorflow:global_step/sec: 10.3347\n",
      "INFO:tensorflow:loss = 0.5275839, step = 8722 (9.671 sec)\n",
      "INFO:tensorflow:global_step/sec: 10.1647\n",
      "INFO:tensorflow:loss = 0.4260363, step = 8822 (9.842 sec)\n",
      "INFO:tensorflow:global_step/sec: 11.0897\n",
      "INFO:tensorflow:loss = 0.41525915, step = 8922 (9.018 sec)\n",
      "INFO:tensorflow:global_step/sec: 11.3853\n",
      "INFO:tensorflow:loss = 0.8332673, step = 9022 (8.782 sec)\n",
      "INFO:tensorflow:global_step/sec: 11.3385\n",
      "INFO:tensorflow:loss = 0.4143198, step = 9122 (8.818 sec)\n",
      "INFO:tensorflow:global_step/sec: 11.3752\n",
      "INFO:tensorflow:loss = 0.83196014, step = 9222 (8.789 sec)\n",
      "INFO:tensorflow:global_step/sec: 11.2819\n",
      "INFO:tensorflow:loss = 0.23522879, step = 9322 (8.864 sec)\n",
      "INFO:tensorflow:global_step/sec: 11.5562\n",
      "INFO:tensorflow:loss = 0.67833924, step = 9422 (8.658 sec)\n",
      "INFO:tensorflow:global_step/sec: 11.4751\n",
      "INFO:tensorflow:loss = 0.2719844, step = 9522 (8.713 sec)\n",
      "INFO:tensorflow:global_step/sec: 10.3575\n",
      "INFO:tensorflow:loss = 0.43883944, step = 9622 (9.657 sec)\n",
      "INFO:tensorflow:global_step/sec: 11.2954\n",
      "INFO:tensorflow:loss = 0.24653558, step = 9722 (8.852 sec)\n",
      "INFO:tensorflow:global_step/sec: 11.6432\n",
      "INFO:tensorflow:loss = 0.7238396, step = 9822 (8.590 sec)\n",
      "INFO:tensorflow:global_step/sec: 11.282\n",
      "INFO:tensorflow:loss = 0.3025393, step = 9922 (8.862 sec)\n",
      "INFO:tensorflow:global_step/sec: 11.2226\n",
      "INFO:tensorflow:loss = 0.22002777, step = 10022 (8.913 sec)\n",
      "INFO:tensorflow:global_step/sec: 11.4161\n",
      "INFO:tensorflow:loss = 0.66433126, step = 10122 (8.759 sec)\n",
      "INFO:tensorflow:global_step/sec: 11.183\n",
      "INFO:tensorflow:loss = 0.26675683, step = 10222 (8.943 sec)\n",
      "INFO:tensorflow:global_step/sec: 10.8741\n",
      "INFO:tensorflow:loss = 0.43180943, step = 10322 (9.196 sec)\n",
      "INFO:tensorflow:global_step/sec: 11.0049\n",
      "INFO:tensorflow:loss = 0.58182365, step = 10422 (9.081 sec)\n",
      "INFO:tensorflow:global_step/sec: 11.3763\n",
      "INFO:tensorflow:loss = 0.22926682, step = 10522 (8.793 sec)\n",
      "INFO:tensorflow:global_step/sec: 10.9824\n",
      "INFO:tensorflow:loss = 0.28674114, step = 10622 (9.104 sec)\n",
      "INFO:tensorflow:global_step/sec: 10.8766\n",
      "INFO:tensorflow:loss = 0.37799063, step = 10722 (9.197 sec)\n",
      "INFO:tensorflow:global_step/sec: 11.1749\n",
      "INFO:tensorflow:loss = 0.2500304, step = 10822 (8.952 sec)\n",
      "INFO:tensorflow:Saving checkpoints for 10911 into ./data_out/checkpoint/rnn\\model.ckpt.\n",
      "WARNING:tensorflow:From c:\\users\\nsa18\\anaconda3\\envs\\ml_nlp\\lib\\site-packages\\tensorflow\\python\\training\\saver.py:966: remove_checkpoint (from tensorflow.python.training.checkpoint_management) is deprecated and will be removed in a future version.\n",
      "Instructions for updating:\n",
      "Use standard file APIs to delete files with this prefix.\n"
     ]
    },
    {
     "name": "stdout",
     "output_type": "stream",
     "text": [
      "INFO:tensorflow:global_step/sec: 8.56418\n",
      "INFO:tensorflow:loss = 0.34069985, step = 10922 (11.671 sec)\n",
      "INFO:tensorflow:global_step/sec: 14.7539\n",
      "INFO:tensorflow:loss = 0.7622855, step = 11022 (6.785 sec)\n",
      "INFO:tensorflow:global_step/sec: 11.5125\n",
      "INFO:tensorflow:loss = 0.1508047, step = 11122 (8.680 sec)\n",
      "INFO:tensorflow:global_step/sec: 10.7234\n",
      "INFO:tensorflow:loss = 0.5298122, step = 11222 (9.331 sec)\n",
      "INFO:tensorflow:global_step/sec: 10.8844\n",
      "INFO:tensorflow:loss = 0.1940091, step = 11322 (9.182 sec)\n",
      "INFO:tensorflow:global_step/sec: 10.3889\n",
      "INFO:tensorflow:loss = 0.38229898, step = 11422 (9.625 sec)\n",
      "INFO:tensorflow:global_step/sec: 10.4466\n",
      "INFO:tensorflow:loss = 0.57367134, step = 11522 (9.573 sec)\n",
      "INFO:tensorflow:global_step/sec: 10.7051\n",
      "INFO:tensorflow:loss = 0.4815543, step = 11622 (9.342 sec)\n",
      "INFO:tensorflow:global_step/sec: 10.2962\n",
      "INFO:tensorflow:loss = 0.16860868, step = 11722 (9.713 sec)\n",
      "INFO:tensorflow:global_step/sec: 11.3642\n",
      "INFO:tensorflow:loss = 0.42452198, step = 11822 (8.801 sec)\n",
      "INFO:tensorflow:global_step/sec: 11.461\n",
      "INFO:tensorflow:loss = 0.22901921, step = 11922 (8.724 sec)\n",
      "INFO:tensorflow:global_step/sec: 11.0505\n",
      "INFO:tensorflow:loss = 0.51601297, step = 12022 (9.051 sec)\n",
      "INFO:tensorflow:global_step/sec: 11.6008\n",
      "INFO:tensorflow:loss = 0.35287046, step = 12122 (8.619 sec)\n",
      "INFO:tensorflow:global_step/sec: 11.347\n",
      "INFO:tensorflow:loss = 0.39997908, step = 12222 (8.811 sec)\n",
      "INFO:tensorflow:global_step/sec: 11.5428\n",
      "INFO:tensorflow:loss = 0.33914778, step = 12322 (8.667 sec)\n",
      "INFO:tensorflow:global_step/sec: 11.4817\n",
      "INFO:tensorflow:loss = 0.23756757, step = 12422 (8.715 sec)\n",
      "INFO:tensorflow:global_step/sec: 11.2599\n",
      "INFO:tensorflow:loss = 0.26024637, step = 12522 (8.869 sec)\n",
      "INFO:tensorflow:global_step/sec: 10.7501\n",
      "INFO:tensorflow:loss = 0.20036988, step = 12622 (9.307 sec)\n",
      "INFO:tensorflow:Saving checkpoints for 12659 into ./data_out/checkpoint/rnn\\model.ckpt.\n",
      "INFO:tensorflow:Loss for final step: 0.2632029.\n"
     ]
    },
    {
     "data": {
      "text/plain": [
       "<tensorflow_estimator.python.estimator.estimator.Estimator at 0x111df04d7b8>"
      ]
     },
     "execution_count": 23,
     "metadata": {},
     "output_type": "execute_result"
    }
   ],
   "source": [
    "os.environ[\"CUDA_VISIBLE_DEVICES\"]=\"4\"\n",
    "\n",
    "est.train(train_input_fn)"
   ]
  },
  {
   "cell_type": "code",
   "execution_count": 24,
   "metadata": {},
   "outputs": [],
   "source": [
    "INPUT_TEST_DATA = 'nsmc_test_input.npy'\n",
    "LABEL_TEST_DATA = 'nsmc_test_label.npy'\n",
    "\n",
    "test_input_data = np.load(open(DATA_IN_PATH + INPUT_TEST_DATA, 'rb'))\n",
    "test_label_data = np.load(open(DATA_IN_PATH + LABEL_TEST_DATA, 'rb'))"
   ]
  },
  {
   "cell_type": "code",
   "execution_count": 25,
   "metadata": {},
   "outputs": [
    {
     "name": "stdout",
     "output_type": "stream",
     "text": [
      "INFO:tensorflow:Calling model_fn.\n",
      "INFO:tensorflow:Done calling model_fn.\n",
      "INFO:tensorflow:Starting evaluation at 2019-04-16T11:35:13Z\n",
      "INFO:tensorflow:Graph was finalized.\n",
      "INFO:tensorflow:Restoring parameters from ./data_out/checkpoint/rnn\\model.ckpt-12659\n",
      "INFO:tensorflow:Running local_init_op.\n",
      "INFO:tensorflow:Done running local_init_op.\n",
      "INFO:tensorflow:Finished evaluation at 2019-04-16-11:35:37\n",
      "INFO:tensorflow:Saving dict for global step 12659: acc = 0.8261, global_step = 12659, loss = 0.3841173\n",
      "INFO:tensorflow:Saving 'checkpoint_path' summary for global step 12659: ./data_out/checkpoint/rnn\\model.ckpt-12659\n"
     ]
    }
   ],
   "source": [
    "predict = est.evaluate(test_input_fn) "
   ]
  },
  {
   "cell_type": "code",
   "execution_count": null,
   "metadata": {},
   "outputs": [],
   "source": [
    "# acc = 0.82322, global_step = 8438, loss = 0.39584005  # 불용어 제거 후 & 단층 CNN 모델이 더 낮은 정확도를 보임"
   ]
  }
 ],
 "metadata": {
  "kernelspec": {
   "display_name": "Python 3",
   "language": "python",
   "name": "python3"
  },
  "language_info": {
   "codemirror_mode": {
    "name": "ipython",
    "version": 3
   },
   "file_extension": ".py",
   "mimetype": "text/x-python",
   "name": "python",
   "nbconvert_exporter": "python",
   "pygments_lexer": "ipython3",
   "version": "3.7.2"
  }
 },
 "nbformat": 4,
 "nbformat_minor": 2
}
